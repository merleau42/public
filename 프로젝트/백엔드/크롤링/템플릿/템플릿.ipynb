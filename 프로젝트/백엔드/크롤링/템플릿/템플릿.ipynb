{
 "cells": [
  {
   "cell_type": "code",
   "execution_count": 34,
   "metadata": {},
   "outputs": [
    {
     "name": "stdout",
     "output_type": "stream",
     "text": [
      "성공적으로 모두 임포트 하였습니다\n"
     ]
    }
   ],
   "source": [
    "import os, gc\n",
    "import time, random\n",
    "import re\n",
    "import clipboard\n",
    "import requests\n",
    "from bs4 import BeautifulSoup\n",
    "from selenium import webdriver\n",
    "from selenium.webdriver.chrome.options import Options\n",
    "from selenium.webdriver.support.ui import WebDriverWait\n",
    "from selenium.webdriver.common.by import By\n",
    "from selenium.webdriver.support import expected_conditions as EC\n",
    "from selenium.webdriver.common.action_chains import ActionChains\n",
    "from selenium.webdriver.common.keys import Keys\n",
    "import chromedriver_autoinstaller\n",
    "print (\"모두 성공적으로 임포트 하였습니다\")"
   ]
  },
  {
   "cell_type": "code",
   "execution_count": 35,
   "metadata": {},
   "outputs": [],
   "source": [
    "'셀레늄 기동 & 조작'\n",
    "\n",
    "def 구동(headless=False, linux=False, gs42=False):\n",
    "\tchrome_options = webdriver.ChromeOptions()\n",
    "\n",
    "\tif headless:\n",
    "\t\tchrome_options.add_argument('--headless')\n",
    "\tif linux:\n",
    "\t\tchrome_options.add_argument('--no-sandbox')\n",
    "\tif not gs42:\n",
    "\t\t#path = 'chromedriver.exe'\n",
    "\t\tpath = chromedriver_autoinstaller.install()\n",
    "\tif gs42:\n",
    "\t\tpath = 'chromedriver.linux'\n",
    "\tlaunch = webdriver.Chrome(path, options=chrome_options)\n",
    "\tprint ('크롬 구동 완료')\n",
    "\treturn launch\n",
    "\n",
    "def 대기(driver, 방법, 값, 최대=5): #리턴되는 wait 객체는 또 하나의 driver 객체와 유사함\n",
    "\treturn WebDriverWait(driver, 최대).until (\n",
    "\t\tEC.presence_of_element_located ( (방법, 값)) #튜플로 주어져야함\n",
    "\t)\n",
    "\n",
    "def 전체선택(driver):\n",
    "\tACT = ActionChains(driver)\n",
    "\tACT.key_down(Keys.CONTROL).send_keys(\"a\").key_up(Keys.CONTROL).perform()\n",
    "\tprint('전체선택')\n",
    "\n",
    "def 복사(driver):\n",
    "\tACT = ActionChains(driver)\n",
    "\tACT.key_down(Keys.CONTROL)\n",
    "\tACT.send_keys(\"c\")\n",
    "\tACT.key_up(Keys.CONTROL)\n",
    "\tprint('컨트롤+C')"
   ]
  },
  {
   "cell_type": "code",
   "execution_count": 36,
   "metadata": {},
   "outputs": [],
   "source": [
    "\"\tRequests & 뷰티플수프\t\"\n",
    "\n",
    "def 소스(페이지, HDR=''):\n",
    "\treturn requests.get(페이지, headers=HDR).text\n",
    "\n",
    "def 끓이기(원본):\n",
    "\tif 원본[0:4]==\"http\":\n",
    "\t\treturn BeautifulSoup(소스(원본), \"html.parser\")\n",
    "\telse:\n",
    "\t\treturn BeautifulSoup(원본, \"html.parser\")"
   ]
  },
  {
   "cell_type": "code",
   "execution_count": 37,
   "metadata": {},
   "outputs": [],
   "source": [
    "\"\tSyntatctic Sugar:  JS에서, ??문법으로 None 대신에 더미 DOM을 리턴하는 것처럼, 파이썬도 더미 객체를 리턴하도록 함\t\"\n",
    "\n",
    "def okay(x): # \n",
    "\t더미 = 끓이기('<none>none</none>')\n",
    "\t더미[\"class\"] = [\"none\"]\n",
    "\treturn 더미 if x == None else x"
   ]
  },
  {
   "cell_type": "code",
   "execution_count": 39,
   "metadata": {},
   "outputs": [],
   "source": [
    "\"\t입출력 모듈\t\"\n",
    "\n",
    "def 이어쓰기(파일명, 쓸내용):\n",
    "\tif type(쓸내용) != type(str):\n",
    "\t\t쓸내용 = \"\\n\".join(쓸내용)\n",
    "\twith open(파일명, 'at', encoding='utf8') as f:\n",
    "\t\tf.write(f'{쓸내용}\\n')\n",
    "\n",
    "def 덮어쓰기(파일명, 쓸내용):\n",
    "\tif type(쓸내용) != type(str):\n",
    "\t\t쓸내용 = \"\\n\".join(쓸내용)\n",
    "\twith open(파일명, 'wt', encoding='utf8') as f:\n",
    "\t\tf.write(f'{쓸내용}\\n')\n",
    "\n",
    "def 불러오기(파일명, by=str):\n",
    "\twith open(파일명, 'r', encoding='utf8') as f:\n",
    "\t\tif by==list:\n",
    "\t\t\treturn re.findall(r'.+',f.read())\n",
    "\t\telse:\n",
    "\t\t\treturn '\\n'.join(f.readlines())"
   ]
  },
  {
   "cell_type": "code",
   "execution_count": 40,
   "metadata": {},
   "outputs": [],
   "source": [
    "헤더 = { 'Accept': 'text/html', 'range': 'Bytes=0-20',\n",
    "\t'User-Agent':'Mozilla/5.0 (Windows NT 10.0; Win64; x64) AppleWebKit/537.36 (KHTML, like Gecko) Chrome/103.0.0.0 Safari/537.36',\n",
    "\t'Accept-Encoding':'gzip, deflate, br',\n",
    "\t'Accept-Language':'ko-KR,ko;q=0.9,en-US;q=0.8,en;q=0.7',\n",
    "\t'Connection':'keep-alive',\n",
    "\t'Sec-Fetch-Dest':'document',\n",
    "\t'Sec-Fetch-Mode':'navigate',\n",
    "\t'Sec-Fetch-Site':'none',\n",
    "\t'Sec-Fetch-User':'?1',\n",
    "\t'Upgrade-Insecure-Requests':'1',\n",
    "}"
   ]
  },
  {
   "cell_type": "code",
   "execution_count": 41,
   "metadata": {},
   "outputs": [
    {
     "ename": "TypeError",
     "evalue": "구동() got an unexpected keyword argument 'linux'",
     "output_type": "error",
     "traceback": [
      "\u001b[0;31m---------------------------------------------------------------------------\u001b[0m",
      "\u001b[0;31mTypeError\u001b[0m                                 Traceback (most recent call last)",
      "Cell \u001b[0;32mIn[41], line 1\u001b[0m\n\u001b[0;32m----> 1\u001b[0m driver \u001b[38;5;241m=\u001b[39m \u001b[43m구동\u001b[49m\u001b[43m(\u001b[49m\u001b[43mheadless\u001b[49m\u001b[38;5;241;43m=\u001b[39;49m\u001b[38;5;28;43;01mTrue\u001b[39;49;00m\u001b[43m,\u001b[49m\u001b[43m \u001b[49m\u001b[43mlinux\u001b[49m\u001b[38;5;241;43m=\u001b[39;49m\u001b[38;5;28;43;01mTrue\u001b[39;49;00m\u001b[43m)\u001b[49m\n\u001b[1;32m      3\u001b[0m \u001b[38;5;28;01mfor\u001b[39;00m pgN \u001b[38;5;129;01min\u001b[39;00m \u001b[38;5;28mrange\u001b[39m(\u001b[38;5;241m1\u001b[39m,\u001b[38;5;241m2\u001b[39m):\n\u001b[1;32m      4\u001b[0m \tdriver\u001b[38;5;241m.\u001b[39mget(\u001b[38;5;124m'\u001b[39m\u001b[38;5;124mhttps://solved.ac/search?query=*&sort=level&direction=asc&page=\u001b[39m\u001b[38;5;132;01m{pgN}\u001b[39;00m\u001b[38;5;124m'\u001b[39m)\n",
      "\u001b[0;31mTypeError\u001b[0m: 구동() got an unexpected keyword argument 'linux'"
     ]
    }
   ],
   "source": [
    "driver = 구동(headless=True, linux=True)\n",
    "\n",
    "for pgN in range(1,2):\n",
    "\tdriver.get('https://solved.ac/search?query=*&sort=level&direction=asc&page={pgN}')\n",
    "\ttime.sleep(10)\n",
    "\t수프 = 끓이기(driver.page_source())\n",
    "\tprint (수프)"
   ]
  }
 ],
 "metadata": {
  "kernelspec": {
   "display_name": "Python 3",
   "language": "python",
   "name": "python3"
  },
  "language_info": {
   "codemirror_mode": {
    "name": "ipython",
    "version": 3
   },
   "file_extension": ".py",
   "mimetype": "text/x-python",
   "name": "python",
   "nbconvert_exporter": "python",
   "pygments_lexer": "ipython3",
   "version": "3.11.7"
  }
 },
 "nbformat": 4,
 "nbformat_minor": 2
}
