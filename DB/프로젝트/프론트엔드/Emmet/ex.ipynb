{
 "cells": [
  {
   "cell_type": "code",
   "execution_count": null,
   "metadata": {
    "vscode": {
     "languageId": "html"
    }
   },
   "outputs": [],
   "source": [
    "[html>(head>style+script)+body]\n",
    "\n",
    "<html>\n",
    "<head>\n",
    "\t<style></style>\n",
    "\t<script></script>\n",
    "</head>\n",
    "<body>\n",
    "\t\n",
    "</body>\n",
    "</html>"
   ]
  },
  {
   "cell_type": "code",
   "execution_count": null,
   "metadata": {
    "vscode": {
     "languageId": "html"
    }
   },
   "outputs": [],
   "source": [
    "table>(thead>th>td*4)+(tbody>(tr>td*4)*3)\n",
    "\n",
    "<table>\n",
    "\t<thead>\n",
    "\t\t<th>\n",
    "\t\t\t<td></td>\n",
    "\t\t\t<td></td>\n",
    "\t\t\t<td></td>\n",
    "\t\t\t<td></td>\n",
    "\t\t</th>\n",
    "\t</thead>\n",
    "\t<tbody>\n",
    "\t\t<tr>\n",
    "\t\t\t<td></td>\n",
    "\t\t\t<td></td>\n",
    "\t\t\t<td></td>\n",
    "\t\t\t<td></td>\n",
    "\t\t</tr>\n",
    "\t\t<tr>\n",
    "\t\t\t<td></td>\n",
    "\t\t\t<td></td>\n",
    "\t\t\t<td></td>\n",
    "\t\t\t<td></td>\n",
    "\t\t</tr>\n",
    "\t\t<tr>\n",
    "\t\t\t<td></td>\n",
    "\t\t\t<td></td>\n",
    "\t\t\t<td></td>\n",
    "\t\t\t<td></td>\n",
    "\t\t</tr>\n",
    "\t</tbody>\n",
    "</table>"
   ]
  }
 ],
 "metadata": {
  "kernelspec": {
   "display_name": "Python 3",
   "language": "python",
   "name": "python3"
  },
  "language_info": {
   "codemirror_mode": {
    "name": "ipython",
    "version": 3
   },
   "file_extension": ".py",
   "mimetype": "text/x-python",
   "name": "python",
   "nbconvert_exporter": "python",
   "pygments_lexer": "ipython3",
   "version": "3.11.9"
  }
 },
 "nbformat": 4,
 "nbformat_minor": 2
}
